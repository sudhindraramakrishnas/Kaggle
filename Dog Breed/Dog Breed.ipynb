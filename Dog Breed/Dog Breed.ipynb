{
 "cells": [
  {
   "cell_type": "code",
   "execution_count": 119,
   "metadata": {},
   "outputs": [],
   "source": [
    "import os\n",
    "import numpy as np\n",
    "import pandas as pd\n",
    "import matplotlib.pyplot as plt\n",
    "from sklearn.preprocessing import LabelEncoder\n",
    "from sklearn.cross_validation import train_test_split\n",
    "%matplotlib inline\n",
    "import cv2, keras\n",
    "#os.listdir()"
   ]
  },
  {
   "cell_type": "code",
   "execution_count": 11,
   "metadata": {},
   "outputs": [],
   "source": [
    "label = pd.read_csv('Label.csv',index_col=False)"
   ]
  },
  {
   "cell_type": "code",
   "execution_count": 22,
   "metadata": {},
   "outputs": [],
   "source": [
    "Breed = label['breed'].unique()\n",
    "le = LabelEncoder()\n",
    "le.fit(Breed)\n",
    "label['breed'] = le.transform(label['breed'])"
   ]
  },
  {
   "cell_type": "code",
   "execution_count": 23,
   "metadata": {},
   "outputs": [
    {
     "data": {
      "text/html": [
       "<div>\n",
       "<style scoped>\n",
       "    .dataframe tbody tr th:only-of-type {\n",
       "        vertical-align: middle;\n",
       "    }\n",
       "\n",
       "    .dataframe tbody tr th {\n",
       "        vertical-align: top;\n",
       "    }\n",
       "\n",
       "    .dataframe thead th {\n",
       "        text-align: right;\n",
       "    }\n",
       "</style>\n",
       "<table border=\"1\" class=\"dataframe\">\n",
       "  <thead>\n",
       "    <tr style=\"text-align: right;\">\n",
       "      <th></th>\n",
       "      <th>id</th>\n",
       "      <th>breed</th>\n",
       "    </tr>\n",
       "  </thead>\n",
       "  <tbody>\n",
       "    <tr>\n",
       "      <th>0</th>\n",
       "      <td>000bec180eb18c7604dcecc8fe0dba07</td>\n",
       "      <td>19</td>\n",
       "    </tr>\n",
       "    <tr>\n",
       "      <th>1</th>\n",
       "      <td>001513dfcb2ffafc82cccf4d8bbaba97</td>\n",
       "      <td>37</td>\n",
       "    </tr>\n",
       "    <tr>\n",
       "      <th>2</th>\n",
       "      <td>001cdf01b096e06d78e9e5112d419397</td>\n",
       "      <td>85</td>\n",
       "    </tr>\n",
       "    <tr>\n",
       "      <th>3</th>\n",
       "      <td>00214f311d5d2247d5dfe4fe24b2303d</td>\n",
       "      <td>15</td>\n",
       "    </tr>\n",
       "    <tr>\n",
       "      <th>4</th>\n",
       "      <td>0021f9ceb3235effd7fcde7f7538ed62</td>\n",
       "      <td>49</td>\n",
       "    </tr>\n",
       "  </tbody>\n",
       "</table>\n",
       "</div>"
      ],
      "text/plain": [
       "                                 id  breed\n",
       "0  000bec180eb18c7604dcecc8fe0dba07     19\n",
       "1  001513dfcb2ffafc82cccf4d8bbaba97     37\n",
       "2  001cdf01b096e06d78e9e5112d419397     85\n",
       "3  00214f311d5d2247d5dfe4fe24b2303d     15\n",
       "4  0021f9ceb3235effd7fcde7f7538ed62     49"
      ]
     },
     "execution_count": 23,
     "metadata": {},
     "output_type": "execute_result"
    }
   ],
   "source": [
    "label.head()"
   ]
  },
  {
   "cell_type": "code",
   "execution_count": 52,
   "metadata": {},
   "outputs": [
    {
     "data": {
      "text/plain": [
       "19"
      ]
     },
     "execution_count": 52,
     "metadata": {},
     "output_type": "execute_result"
    }
   ],
   "source": [
    "label[label['id']=='000bec180eb18c7604dcecc8fe0dba07'].iloc[0,1]\n"
   ]
  },
  {
   "cell_type": "code",
   "execution_count": 78,
   "metadata": {},
   "outputs": [],
   "source": [
    "os.chdir('C:\\\\Users\\\\sudramak\\\\Anaconda-DS\\\\SuperDS projects\\\\Kaggle Competition\\\\Dog breed Identification\\\\\\\\Train\\\\train')"
   ]
  },
  {
   "cell_type": "code",
   "execution_count": 79,
   "metadata": {},
   "outputs": [],
   "source": [
    "#load the images along with X(train) and Y(target)\n",
    "import glob\n",
    "X = []\n",
    "Y = []\n",
    "for filename in glob.glob('*.jpg'):\n",
    "    n = cv2.imread(filename,-1)\n",
    "    if n is not None:\n",
    "         X.append(cv2.resize(n,(256,256)))\n",
    "         tempfil = filename[:len(filename)-4]\n",
    "         Y.append(label[label['id']==tempfil].iloc[0,1])\n",
    "#img.append(cv2.imread('000bec180eb18c7604dcecc8fe0dba07.jpg',0))\n",
    "#print(img)"
   ]
  },
  {
   "cell_type": "code",
   "execution_count": 139,
   "metadata": {},
   "outputs": [],
   "source": [
    "x_train, x_test, y_train, y_test = train_test_split(X, Y, test_size=0.20, random_state=42)"
   ]
  },
  {
   "cell_type": "code",
   "execution_count": 140,
   "metadata": {},
   "outputs": [],
   "source": [
    "x_train = np.array(x_train)\n",
    "x_test = np.array(x_test)\n",
    "y_train = np.array(y_train)\n",
    "y_test = np.array(y_test)"
   ]
  },
  {
   "cell_type": "code",
   "execution_count": 141,
   "metadata": {},
   "outputs": [],
   "source": [
    "y_train = keras.utils.to_categorical(y_train, 120)\n",
    "y_test = keras.utils.to_categorical(y_test, 120)"
   ]
  },
  {
   "cell_type": "code",
   "execution_count": 142,
   "metadata": {},
   "outputs": [
    {
     "data": {
      "text/plain": [
       "(8177, 256, 256, 3)"
      ]
     },
     "execution_count": 142,
     "metadata": {},
     "output_type": "execute_result"
    }
   ],
   "source": [
    "x_train.shape"
   ]
  },
  {
   "cell_type": "code",
   "execution_count": 143,
   "metadata": {},
   "outputs": [
    {
     "data": {
      "text/plain": [
       "(8177, 120)"
      ]
     },
     "execution_count": 143,
     "metadata": {},
     "output_type": "execute_result"
    }
   ],
   "source": [
    "y_train.shape"
   ]
  },
  {
   "cell_type": "code",
   "execution_count": 49,
   "metadata": {},
   "outputs": [],
   "source": [
    "import matplotlib.image as mpimg\n",
    "img = []\n",
    "for filename in glob.glob('*.jpg'):\n",
    "    n = mpimg.imread(filename,0)\n",
    "    if n is not None:\n",
    "         img.append(n)\n",
    "         #print(filename)"
   ]
  },
  {
   "cell_type": "code",
   "execution_count": 101,
   "metadata": {},
   "outputs": [],
   "source": [
    "from keras.models import Model,Sequential\n",
    "from keras.layers import Convolution2D,Conv2D,MaxPooling2D,Flatten,Dense,Input,Conv2DTranspose,concatenate,Activation\n",
    "from keras.layers import BatchNormalization\n",
    "from keras.optimizers import Adam"
   ]
  },
  {
   "cell_type": "code",
   "execution_count": 145,
   "metadata": {},
   "outputs": [],
   "source": [
    "img_size = 256\n",
    "row_img = img_size\n",
    "col_img = img_size\n",
    "batch_size = 50\n",
    "nb_epoch = 10\n",
    "lr = 0.001\n",
    "img = Input(shape=(row_img,col_img,3))\n",
    "\n",
    "conv1 = Conv2D(32,(3,3),padding='valid',strides=(2,2))(img)\n",
    "conv1 = BatchNormalization()(conv1)\n",
    "conv1 = Activation('relu')(conv1)\n",
    "pool1 = MaxPooling2D(pool_size=(2,2))(conv1)\n",
    "\n",
    "conv2 = Conv2D(64,(3,3),padding='valid',strides=(2,2))(pool1)\n",
    "conv2 = BatchNormalization()(conv2)\n",
    "conv2 = Activation('relu')(conv2)\n",
    "pool2 = MaxPooling2D(pool_size=(2,2))(conv2)\n",
    "\n",
    "conv3 = Conv2D(128,(3,3),padding='valid',strides=(2,2))(pool2)\n",
    "conv3 = BatchNormalization()(conv3)\n",
    "conv3 = Activation('relu')(conv3)\n",
    "pool3 = MaxPooling2D(pool_size=(2,2))(conv3)\n",
    "                                      \n",
    "Flat3 = Flatten()(pool3)\n",
    "Dense3 = Dense(10000)(Flat3)\n",
    "Activ3 = Activation('relu')(Dense3)\n",
    "Dense4 = Dense(120)(Activ3)\n",
    "Activ4 = Activation('softmax')(Dense4)                                      "
   ]
  },
  {
   "cell_type": "code",
   "execution_count": 146,
   "metadata": {},
   "outputs": [
    {
     "name": "stderr",
     "output_type": "stream",
     "text": [
      "C:\\Users\\sudramak\\AppData\\Local\\Continuum\\anaconda3\\lib\\site-packages\\ipykernel_launcher.py:7: UserWarning: The `nb_epoch` argument in `fit` has been renamed `epochs`.\n",
      "  import sys\n"
     ]
    },
    {
     "name": "stdout",
     "output_type": "stream",
     "text": [
      "Train on 8177 samples, validate on 2045 samples\n",
      "Epoch 1/10\n",
      "8177/8177 [==============================] - 579s 71ms/step - loss: 6.4115 - acc: 0.0139 - val_loss: 4.7540 - val_acc: 0.0200\n",
      "Epoch 2/10\n",
      "8177/8177 [==============================] - 556s 68ms/step - loss: 4.6532 - acc: 0.0229 - val_loss: 4.8389 - val_acc: 0.0161\n",
      "Epoch 3/10\n",
      "8177/8177 [==============================] - 579s 71ms/step - loss: 4.4282 - acc: 0.0410 - val_loss: 4.4679 - val_acc: 0.0391\n",
      "Epoch 4/10\n",
      "8177/8177 [==============================] - 605s 74ms/step - loss: 4.2267 - acc: 0.0572 - val_loss: 4.4430 - val_acc: 0.0391\n",
      "Epoch 5/10\n",
      "8177/8177 [==============================] - 579s 71ms/step - loss: 4.0232 - acc: 0.0857 - val_loss: 4.5316 - val_acc: 0.0367\n",
      "Epoch 6/10\n",
      "8177/8177 [==============================] - 633s 77ms/step - loss: 3.8085 - acc: 0.1189 - val_loss: 4.5664 - val_acc: 0.0421\n",
      "Epoch 7/10\n",
      "8177/8177 [==============================] - 619s 76ms/step - loss: 3.5736 - acc: 0.1508 - val_loss: 4.3328 - val_acc: 0.0665\n",
      "Epoch 8/10\n",
      "8177/8177 [==============================] - 650s 79ms/step - loss: 3.3084 - acc: 0.1977 - val_loss: 4.5155 - val_acc: 0.0572\n",
      "Epoch 9/10\n",
      "8177/8177 [==============================] - 531s 65ms/step - loss: 3.0562 - acc: 0.2491 - val_loss: 4.5534 - val_acc: 0.0763\n",
      "Epoch 10/10\n",
      "8177/8177 [==============================] - 531s 65ms/step - loss: 2.7125 - acc: 0.3210 - val_loss: 4.6118 - val_acc: 0.0729\n"
     ]
    },
    {
     "data": {
      "text/plain": [
       "<keras.callbacks.History at 0x1c4a7fd0780>"
      ]
     },
     "execution_count": 146,
     "metadata": {},
     "output_type": "execute_result"
    }
   ],
   "source": [
    "model = Model(inputs=img, outputs=Activ4)\n",
    "model.compile(optimizer=Adam(lr=lr),loss='categorical_crossentropy',metrics=['accuracy'])\n",
    "model.fit(x_train, y_train,\n",
    "          batch_size=batch_size,\n",
    "          nb_epoch=nb_epoch,\n",
    "          verbose=1,\n",
    "          validation_data=(x_test, y_test))\n"
   ]
  }
 ],
 "metadata": {
  "kernelspec": {
   "display_name": "Python 3",
   "language": "python",
   "name": "python3"
  },
  "language_info": {
   "codemirror_mode": {
    "name": "ipython",
    "version": 3
   },
   "file_extension": ".py",
   "mimetype": "text/x-python",
   "name": "python",
   "nbconvert_exporter": "python",
   "pygments_lexer": "ipython3",
   "version": "3.6.4"
  }
 },
 "nbformat": 4,
 "nbformat_minor": 2
}
